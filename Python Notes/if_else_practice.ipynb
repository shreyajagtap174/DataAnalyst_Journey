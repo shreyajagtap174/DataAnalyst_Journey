{
  "nbformat": 4,
  "nbformat_minor": 0,
  "metadata": {
    "colab": {
      "provenance": []
    },
    "kernelspec": {
      "name": "python3",
      "display_name": "Python 3"
    },
    "language_info": {
      "name": "python"
    }
  },
  "cells": [
    {
      "cell_type": "code",
      "execution_count": null,
      "metadata": {
        "id": "tkkAvNWCxran"
      },
      "outputs": [],
      "source": [
        "#check - positive, negative, or zero"
      ]
    },
    {
      "cell_type": "code",
      "source": [
        "num = int(input(\"Enter a number :-\"))\n",
        "if num > 0:\n",
        "  print(\"positive\")\n",
        "elif num < 0:\n",
        "  print(\"negative\")\n",
        "else:\n",
        "  print(\"zero\")"
      ],
      "metadata": {
        "colab": {
          "base_uri": "https://localhost:8080/"
        },
        "id": "du1g8HUNx15t",
        "outputId": "e3544642-65f9-41f2-a1de-3b722216e7ab"
      },
      "execution_count": null,
      "outputs": [
        {
          "output_type": "stream",
          "name": "stdout",
          "text": [
            "Enter a number :-0\n",
            "zero\n"
          ]
        }
      ]
    },
    {
      "cell_type": "code",
      "source": [
        "#minor, adult, seniors"
      ],
      "metadata": {
        "id": "ie3uuvQIyUiz"
      },
      "execution_count": null,
      "outputs": []
    },
    {
      "cell_type": "code",
      "source": [
        "age = int(input(\"enter your age :-\"))\n",
        "if age < 18:\n",
        "  print(\"minor\")\n",
        "elif age < 60:\n",
        "  print(\"adult\")\n",
        "else:\n",
        "  print(\"senior\")"
      ],
      "metadata": {
        "colab": {
          "base_uri": "https://localhost:8080/"
        },
        "id": "l_5ehB5hyv70",
        "outputId": "6a823c87-aa9e-482b-be71-a14ab50a102f"
      },
      "execution_count": null,
      "outputs": [
        {
          "output_type": "stream",
          "name": "stdout",
          "text": [
            "enter your age :-68\n",
            "senior\n"
          ]
        }
      ]
    },
    {
      "cell_type": "code",
      "source": [
        "# even odd"
      ],
      "metadata": {
        "id": "xOgJwQ0qzk32"
      },
      "execution_count": null,
      "outputs": []
    },
    {
      "cell_type": "code",
      "source": [
        "num = int(input(\"Enter the number :-\"))\n",
        "if num % 2== 0:\n",
        "  print(\"even\")\n",
        "else:\n",
        "    print(\"odd\")"
      ],
      "metadata": {
        "colab": {
          "base_uri": "https://localhost:8080/"
        },
        "id": "BB1FLIPSz1me",
        "outputId": "5797d7d2-2be5-4cfb-c641-7e7598b856be"
      },
      "execution_count": null,
      "outputs": [
        {
          "output_type": "stream",
          "name": "stdout",
          "text": [
            "Enter the number :-6\n",
            "even\n"
          ]
        }
      ]
    },
    {
      "cell_type": "code",
      "source": [
        "#largest from 2 numbers"
      ],
      "metadata": {
        "id": "dzHt0EC10K_o"
      },
      "execution_count": null,
      "outputs": []
    },
    {
      "cell_type": "code",
      "source": [
        "a = int(input(\"Enter first number :-\"))\n",
        "b = int(input(\"Enter second number\"))\n",
        "if a > b:\n",
        "  print(\"largest number is a \",a)\n",
        "else:\n",
        "  print(\"largest number is b \",b)"
      ],
      "metadata": {
        "colab": {
          "base_uri": "https://localhost:8080/"
        },
        "id": "vM3xm1tt0fo0",
        "outputId": "cf262d42-a65b-4e6f-b368-62926d751364"
      },
      "execution_count": null,
      "outputs": [
        {
          "output_type": "stream",
          "name": "stdout",
          "text": [
            "Enter first number :-50\n",
            "Enter second number25\n",
            "largest number is a  50\n"
          ]
        }
      ]
    },
    {
      "cell_type": "code",
      "source": [
        "#check divisible by 5 and 7"
      ],
      "metadata": {
        "id": "bx_z8i8D1MMm"
      },
      "execution_count": null,
      "outputs": []
    },
    {
      "cell_type": "code",
      "source": [
        "num = int(input(\"enter the number :-\"))\n",
        "if num % 5 == 0 and num % 7 == 0:\n",
        "  print(\"The number is divisible by 5 and 7 both\")\n",
        "else:\n",
        "  print(\"not divisible by 5 and 7 both\")"
      ],
      "metadata": {
        "colab": {
          "base_uri": "https://localhost:8080/"
        },
        "id": "c6ed9feW1cU6",
        "outputId": "6300f1cb-5b23-4b13-ace2-2d8111c93da1"
      },
      "execution_count": null,
      "outputs": [
        {
          "output_type": "stream",
          "name": "stdout",
          "text": [
            "enter the number :-5\n",
            "not divisible by 5 and 7 both\n"
          ]
        }
      ]
    },
    {
      "cell_type": "code",
      "source": [
        "#leap year"
      ],
      "metadata": {
        "id": "m3socUUI2x4N"
      },
      "execution_count": null,
      "outputs": []
    },
    {
      "cell_type": "code",
      "source": [
        "year = int(input(\"Enter a year :-\"))\n",
        "\n",
        "if (year % 4 == 0 and year % 100 !=0) or (year % 400 == 0):\n",
        "  print(\"leap year\")\n",
        "else:\n",
        "    print(\"not leap year\")"
      ],
      "metadata": {
        "colab": {
          "base_uri": "https://localhost:8080/"
        },
        "id": "6gGPDq_i28iM",
        "outputId": "9daaf512-5580-4462-f0ac-dea16fcb4b31"
      },
      "execution_count": null,
      "outputs": [
        {
          "output_type": "stream",
          "name": "stdout",
          "text": [
            "Enter a year :-2000\n",
            "leap year\n"
          ]
        }
      ]
    },
    {
      "cell_type": "code",
      "source": [
        "#grade"
      ],
      "metadata": {
        "id": "tm6pa0we3fIx"
      },
      "execution_count": null,
      "outputs": []
    },
    {
      "cell_type": "code",
      "source": [
        "marks = int(input(\"Enter your marks:-\"))\n",
        "if marks >= 90:\n",
        "  print(\"grade: A\")\n",
        "elif marks >= 80:\n",
        "  print(\"grade: B\")\n",
        "elif marks >= 70:\n",
        "  print(\"grade: c\")\n",
        "elif marks >= 60:\n",
        "  print(\"grade: D\")\n",
        "else:\n",
        "  print(\"grade: F\")"
      ],
      "metadata": {
        "colab": {
          "base_uri": "https://localhost:8080/"
        },
        "id": "ItskCchc-WhU",
        "outputId": "2e5f38ae-d476-4473-f7d4-8818f1bcfaa1"
      },
      "execution_count": null,
      "outputs": [
        {
          "output_type": "stream",
          "name": "stdout",
          "text": [
            "Enter your marks:-65\n",
            "grade: D\n"
          ]
        }
      ]
    },
    {
      "cell_type": "code",
      "source": [
        "# gender based msg"
      ],
      "metadata": {
        "id": "KqDou7aq_ioR"
      },
      "execution_count": null,
      "outputs": []
    },
    {
      "cell_type": "code",
      "source": [
        "a = \"shreya\""
      ],
      "metadata": {
        "id": "e3aGM1cE_p6-"
      },
      "execution_count": null,
      "outputs": []
    },
    {
      "cell_type": "code",
      "source": [
        "a.upper()"
      ],
      "metadata": {
        "colab": {
          "base_uri": "https://localhost:8080/",
          "height": 35
        },
        "id": "mI_LCb9UABEn",
        "outputId": "dbde2ffa-6262-48f8-a3da-14c53a6e9203"
      },
      "execution_count": null,
      "outputs": [
        {
          "output_type": "execute_result",
          "data": {
            "text/plain": [
              "'SHREYA'"
            ],
            "application/vnd.google.colaboratory.intrinsic+json": {
              "type": "string"
            }
          },
          "metadata": {},
          "execution_count": 36
        }
      ]
    },
    {
      "cell_type": "code",
      "source": [],
      "metadata": {
        "id": "8HgcnFAABwXJ"
      },
      "execution_count": null,
      "outputs": []
    },
    {
      "cell_type": "code",
      "source": [
        "gender = input(\"Enter gender (M/F):-\").upper()\n",
        "if gender == \"M\":\n",
        "  print(\"Hello Sir..!\")\n",
        "elif gender == \"F\":\n",
        "  print(\"Hello Mam..!\")\n",
        "else:\n",
        "  print(\"Invalid Selection\")"
      ],
      "metadata": {
        "colab": {
          "base_uri": "https://localhost:8080/"
        },
        "id": "t6eoQA5xAIut",
        "outputId": "623918a7-35fa-4749-e3b5-0df5a54dbdcd"
      },
      "execution_count": null,
      "outputs": [
        {
          "output_type": "stream",
          "name": "stdout",
          "text": [
            "Enter gender (M/F):-f\n",
            "Hello Mam..!\n"
          ]
        }
      ]
    },
    {
      "cell_type": "code",
      "source": [
        "#check number is in range (1 - 100)"
      ],
      "metadata": {
        "id": "mHD5Ko70BpkL"
      },
      "execution_count": null,
      "outputs": []
    },
    {
      "cell_type": "code",
      "source": [
        "num = int(input(\"Enter a number:-\"))\n",
        "if 1<= num<=100:\n",
        "  print(\"number is in range 1 - 100\")\n",
        "else:\n",
        "  print(\"number is out of range\")"
      ],
      "metadata": {
        "colab": {
          "base_uri": "https://localhost:8080/"
        },
        "id": "a-EBhfy3CHrS",
        "outputId": "948bf34a-a9de-445a-9b3c-dff5958d910d"
      },
      "execution_count": null,
      "outputs": [
        {
          "output_type": "stream",
          "name": "stdout",
          "text": [
            "Enter a number:-101\n",
            "number is out of range\n"
          ]
        }
      ]
    },
    {
      "cell_type": "code",
      "source": [
        "#valid trangle with angle = 180"
      ],
      "metadata": {
        "id": "unY7tfrYCiMA"
      },
      "execution_count": null,
      "outputs": []
    },
    {
      "cell_type": "code",
      "source": [
        "a = int(input(\"Enter first angle:-\"))\n",
        "b = int(input(\"Enter Second angle\"))\n",
        "c = int(input(\"Enter the third angle\"))\n",
        "if a + b + c==180:\n",
        "  print(\"valid triangle\")\n",
        "else:\n",
        "  print(\"invalid triangle\")\n",
        "\n"
      ],
      "metadata": {
        "id": "AX9ncLDzCuu0",
        "colab": {
          "base_uri": "https://localhost:8080/"
        },
        "outputId": "0246dd7f-ad60-4d91-afee-a573f8ae0b78"
      },
      "execution_count": null,
      "outputs": [
        {
          "output_type": "stream",
          "name": "stdout",
          "text": [
            "Enter first angle:-60\n",
            "Enter Second angle60\n",
            "Enter the third angle60\n",
            "valid triangle\n"
          ]
        }
      ]
    },
    {
      "cell_type": "code",
      "source": [
        "#check if character is a vowel or consonant"
      ],
      "metadata": {
        "id": "P5NPqRI7HzTe"
      },
      "execution_count": null,
      "outputs": []
    },
    {
      "cell_type": "code",
      "source": [
        "char = input(\"Enter first angle:-\").lower()\n",
        "if char in \"aeiou\":\n",
        "  print(\"vowels\")\n",
        "else:\n",
        "  print(\"consant\")"
      ],
      "metadata": {
        "colab": {
          "base_uri": "https://localhost:8080/"
        },
        "id": "8tNF-Ca6IMlJ",
        "outputId": "68ffc4a7-f56c-41d1-af4b-8f77f9195e0a"
      },
      "execution_count": null,
      "outputs": [
        {
          "output_type": "stream",
          "name": "stdout",
          "text": [
            "Enter first angle:-a\n",
            "vowels\n"
          ]
        }
      ]
    },
    {
      "cell_type": "code",
      "source": [
        "# password verification"
      ],
      "metadata": {
        "id": "Yr3e5JqsIhPj"
      },
      "execution_count": null,
      "outputs": []
    },
    {
      "cell_type": "code",
      "source": [
        "set_passoward = \"python@123\"\n",
        "\n",
        "password = input(\"Enter your password:-must contain 1 cap, 1small, 1char,1num, 9digit\")\n",
        "if password == \"set_password\":\n",
        "  print(\"access granted\")\n",
        "else:\n",
        "  print(\"invalid passwor\")\n"
      ],
      "metadata": {
        "colab": {
          "base_uri": "https://localhost:8080/"
        },
        "id": "FmESrbFWIoJG",
        "outputId": "01c47424-7628-448f-f7a8-c79ad804c3e2"
      },
      "execution_count": 11,
      "outputs": [
        {
          "output_type": "stream",
          "name": "stdout",
          "text": [
            "Enter your password:-must contain 1 cap, 1small, 1char,1num, 9digitTushar@123\n",
            "invalid passwor\n"
          ]
        }
      ]
    },
    {
      "cell_type": "code",
      "source": [
        "#trangle type"
      ],
      "metadata": {
        "id": "KJelSnXAKV6d"
      },
      "execution_count": 12,
      "outputs": []
    },
    {
      "cell_type": "code",
      "source": [
        "a = int(input(\"Enter first side:-\"))\n",
        "b = int(input(\"Enter second side:-\"))\n",
        "c = int(input(\"Enter third side:-\"))\n",
        "\n",
        "if a== b ==c:\n",
        "  print(\"equilateral triangle\")\n",
        "elif a==b or b==c or a==c:\n",
        "  print(\"isoscales triangle\")\n",
        "else:\n",
        "  print(\"scalene triangle\")"
      ],
      "metadata": {
        "colab": {
          "base_uri": "https://localhost:8080/"
        },
        "id": "Lzecx3WtL4wT",
        "outputId": "d93bdc54-0c67-48e1-fd12-3a8d10a35129"
      },
      "execution_count": 13,
      "outputs": [
        {
          "output_type": "stream",
          "name": "stdout",
          "text": [
            "Enter first side:-48\n",
            "Enter second side:-48\n",
            "Enter third side:-5\n",
            "isoscales triangle\n"
          ]
        }
      ]
    },
    {
      "cell_type": "code",
      "source": [
        "#voting-"
      ],
      "metadata": {
        "id": "YRcW2F0EMueo"
      },
      "execution_count": 14,
      "outputs": []
    },
    {
      "cell_type": "code",
      "source": [
        "age = int(input(\"Enter your age:\"))\n",
        "if age>=18:\n",
        "  print(\"Eligible to vote\")\n",
        "else:\n",
        "  print(\"Not eligible to vote\")"
      ],
      "metadata": {
        "colab": {
          "base_uri": "https://localhost:8080/"
        },
        "id": "diYtsXBZM4RG",
        "outputId": "3681f254-597e-4828-ce75-557b186ee85d"
      },
      "execution_count": 15,
      "outputs": [
        {
          "output_type": "stream",
          "name": "stdout",
          "text": [
            "Enter your age:22\n",
            "Eligible to vote\n"
          ]
        }
      ]
    },
    {
      "cell_type": "code",
      "source": [
        "#armstrong number . ex = 153 = 1**3 + 5**3 + 3**3 =153"
      ],
      "metadata": {
        "id": "ltoncHvsNKDP"
      },
      "execution_count": 16,
      "outputs": []
    },
    {
      "cell_type": "code",
      "source": [
        "str(145)"
      ],
      "metadata": {
        "colab": {
          "base_uri": "https://localhost:8080/",
          "height": 35
        },
        "id": "yrLX3YpvNzaq",
        "outputId": "c01bc82f-e963-42ef-a3a8-a82c68ec211e"
      },
      "execution_count": 17,
      "outputs": [
        {
          "output_type": "execute_result",
          "data": {
            "text/plain": [
              "'145'"
            ],
            "application/vnd.google.colaboratory.intrinsic+json": {
              "type": "string"
            }
          },
          "metadata": {},
          "execution_count": 17
        }
      ]
    },
    {
      "cell_type": "code",
      "source": [
        "num = int(input(\"Enter a three digit number:-\"))\n",
        "\n",
        "sum_of_digit = sum(int(i)**3 for i in str(num))\n",
        "if num==sum_of_digit:\n",
        "  print(\"armstrong number\")\n",
        "else:\n",
        "  print(\"not armstrong\")"
      ],
      "metadata": {
        "colab": {
          "base_uri": "https://localhost:8080/"
        },
        "id": "hzoQ3b_RN1Jn",
        "outputId": "10da5af6-8618-447a-b09d-d34dccdc5544"
      },
      "execution_count": 18,
      "outputs": [
        {
          "output_type": "stream",
          "name": "stdout",
          "text": [
            "Enter a three digit number:-153\n",
            "armstrong number\n"
          ]
        }
      ]
    },
    {
      "cell_type": "code",
      "source": [
        "#bonus on salary"
      ],
      "metadata": {
        "id": "CavOb_qxOiPL"
      },
      "execution_count": 19,
      "outputs": []
    },
    {
      "cell_type": "code",
      "source": [
        "salary = float(input(\"Enter your salary:\"))\n",
        "\n",
        "if salary < 50000:\n",
        "  bonus = salary*0.1\n",
        "else:\n",
        "  bonus = salary*0.05\n",
        "\n",
        "  print(\"your bonus is :-\", bonus)"
      ],
      "metadata": {
        "colab": {
          "base_uri": "https://localhost:8080/"
        },
        "id": "g7Q8UO96OrmX",
        "outputId": "57a767b2-02ba-4dac-e8fb-642ea21dd063"
      },
      "execution_count": 21,
      "outputs": [
        {
          "name": "stdout",
          "output_type": "stream",
          "text": [
            "Enter your salary:45000\n"
          ]
        }
      ]
    },
    {
      "cell_type": "code",
      "source": [
        "#shopping discount"
      ],
      "metadata": {
        "id": "31J3wDQpPHxA"
      },
      "execution_count": 22,
      "outputs": []
    },
    {
      "cell_type": "code",
      "source": [
        "amount = float(input(\"Enter purchase amount:\"))\n",
        "\n",
        "if amount>5000:\n",
        "  discount = amount*0.2\n",
        "elif amount >=1000:\n",
        "  discount = amount*0.1\n",
        "else:\n",
        "  discount = 0\n",
        "final_price = amount-discount\n",
        "\n",
        "print(\"your final price after discount is\",final_price)"
      ],
      "metadata": {
        "colab": {
          "base_uri": "https://localhost:8080/"
        },
        "id": "XmdHuGAyPV53",
        "outputId": "c3e5ae66-bcf8-44d9-b2a3-2da6d7ef16f9"
      },
      "execution_count": 23,
      "outputs": [
        {
          "output_type": "stream",
          "name": "stdout",
          "text": [
            "Enter purchase amount:6000\n",
            "your final price after discount is 4800.0\n"
          ]
        }
      ]
    },
    {
      "cell_type": "code",
      "source": [
        "#check weekday"
      ],
      "metadata": {
        "id": "Tdh8apAHP8i-"
      },
      "execution_count": 24,
      "outputs": []
    },
    {
      "cell_type": "code",
      "source": [
        "day = input(\"Enter a day:-\").lower()\n",
        "if day in ['saturday','sunday']:\n",
        "  print(\"weekend\")\n",
        "else:\n",
        "  print(\"weekday\")"
      ],
      "metadata": {
        "colab": {
          "base_uri": "https://localhost:8080/"
        },
        "id": "9E91BZO9QDVj",
        "outputId": "254e72a6-c751-4984-f70d-235c9b87f8c3"
      },
      "execution_count": 25,
      "outputs": [
        {
          "output_type": "stream",
          "name": "stdout",
          "text": [
            "Enter a day:-tuesday\n",
            "weekday\n"
          ]
        }
      ]
    },
    {
      "cell_type": "code",
      "source": [
        "#three number in ascending"
      ],
      "metadata": {
        "id": "_Fk4eGvkSEcT"
      },
      "execution_count": 26,
      "outputs": []
    },
    {
      "cell_type": "code",
      "source": [
        "a = int(input(\"Enter first number:\"))\n",
        "b = int(input(\"Enter second number:\"))\n",
        "c = int(input(\"Enter third number\"))\n",
        "\n",
        "number = [a,b,c]\n",
        "\n",
        "number.sort()\n",
        "\n",
        "print(\"number in ascending order\",number)"
      ],
      "metadata": {
        "colab": {
          "base_uri": "https://localhost:8080/"
        },
        "id": "nvwP_whfSQjc",
        "outputId": "31c2aaa2-6056-4a7a-b7a8-f89cd2a52c76"
      },
      "execution_count": 27,
      "outputs": [
        {
          "output_type": "stream",
          "name": "stdout",
          "text": [
            "Enter first number:8\n",
            "Enter second number:6\n",
            "Enter third number2\n",
            "number in ascending order [2, 6, 8]\n"
          ]
        }
      ]
    },
    {
      "cell_type": "code",
      "source": [
        "#ticket fare"
      ],
      "metadata": {
        "id": "qzRAnXleTFO-"
      },
      "execution_count": 28,
      "outputs": []
    },
    {
      "cell_type": "code",
      "source": [
        "age =int(input(\"Enter your age:\"))\n",
        "\n",
        "full_fare = 500\n",
        "\n",
        "if age<5:\n",
        "  fare = 0\n",
        "elif 5<=age<=18:\n",
        "  fare = full_fare*0.5\n",
        "elif age>60:\n",
        "  fare = full_fare*0.7\n",
        "else:\n",
        "  fare = full_fare\n",
        "\n",
        "  print(\"your ticket fare is:-\",fare)"
      ],
      "metadata": {
        "colab": {
          "base_uri": "https://localhost:8080/"
        },
        "id": "CPEcwQ0NTOe3",
        "outputId": "df4736fb-bb80-4025-cf11-3a71ea5c4467"
      },
      "execution_count": 34,
      "outputs": [
        {
          "name": "stdout",
          "output_type": "stream",
          "text": [
            "Enter your age:5\n"
          ]
        }
      ]
    },
    {
      "cell_type": "code",
      "source": [],
      "metadata": {
        "id": "-mRF6v4YT45w"
      },
      "execution_count": 34,
      "outputs": []
    }
  ]
}