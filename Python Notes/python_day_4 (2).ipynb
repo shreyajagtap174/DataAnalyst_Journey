{
  "nbformat": 4,
  "nbformat_minor": 0,
  "metadata": {
    "colab": {
      "provenance": []
    },
    "kernelspec": {
      "name": "python3",
      "display_name": "Python 3"
    },
    "language_info": {
      "name": "python"
    }
  },
  "cells": [
    {
      "cell_type": "markdown",
      "source": [
        "#list"
      ],
      "metadata": {
        "id": "HqJO_RuzmgKK"
      }
    },
    {
      "cell_type": "markdown",
      "source": [
        "List is a collection of elements.\n",
        "\n",
        "List maintains the order of elements.\n",
        "\n",
        "can be change(modify,add,remove) - Mutable.\n",
        "\n",
        "can contain duplicate value\n",
        "\n",
        "support different data types-int,float,string,bool,list,tuple\n",
        "\n",
        "element can be accessed using an index."
      ],
      "metadata": {
        "id": "BS8_4Nwbm8TQ"
      }
    },
    {
      "cell_type": "code",
      "source": [
        "#empty list\n",
        "a1 = []"
      ],
      "metadata": {
        "id": "c6FhE5Mjn4hz"
      },
      "execution_count": 2,
      "outputs": []
    },
    {
      "cell_type": "code",
      "source": [
        "#list with different data type\n",
        "\n",
        "l1=[10,\"hello\",3.4,True,[1,2,3,],(7,8,9)]"
      ],
      "metadata": {
        "id": "je75P4iZo7nI"
      },
      "execution_count": 3,
      "outputs": []
    },
    {
      "cell_type": "code",
      "source": [
        "type(l1)"
      ],
      "metadata": {
        "colab": {
          "base_uri": "https://localhost:8080/"
        },
        "id": "phWOdd_MpXdU",
        "outputId": "525e9d2c-f5dd-4406-af05-d59c7edbd8b2"
      },
      "execution_count": 4,
      "outputs": [
        {
          "output_type": "execute_result",
          "data": {
            "text/plain": [
              "list"
            ]
          },
          "metadata": {},
          "execution_count": 4
        }
      ]
    },
    {
      "cell_type": "code",
      "source": [
        "#indexing"
      ],
      "metadata": {
        "id": "3oM2ZoBApeTT"
      },
      "execution_count": 5,
      "outputs": []
    },
    {
      "cell_type": "code",
      "source": [
        "l2 = [10,20,30,40,50]"
      ],
      "metadata": {
        "id": "wG9zWD67py5X"
      },
      "execution_count": 6,
      "outputs": []
    },
    {
      "cell_type": "code",
      "source": [
        "l2[0] #0 is index number"
      ],
      "metadata": {
        "colab": {
          "base_uri": "https://localhost:8080/"
        },
        "id": "LGr7EWnWp3Hn",
        "outputId": "b68c65ec-3ac6-4840-b464-7a30ba7bbc82"
      },
      "execution_count": 8,
      "outputs": [
        {
          "output_type": "execute_result",
          "data": {
            "text/plain": [
              "10"
            ]
          },
          "metadata": {},
          "execution_count": 8
        }
      ]
    },
    {
      "cell_type": "code",
      "source": [
        "l2[1]"
      ],
      "metadata": {
        "colab": {
          "base_uri": "https://localhost:8080/"
        },
        "id": "Xfsc_XgLp9g2",
        "outputId": "ea371b6d-0646-45bd-d4ba-d8f8cc23c57b"
      },
      "execution_count": 10,
      "outputs": [
        {
          "output_type": "execute_result",
          "data": {
            "text/plain": [
              "20"
            ]
          },
          "metadata": {},
          "execution_count": 10
        }
      ]
    },
    {
      "cell_type": "code",
      "source": [
        "#variable name never start with numbers\n",
        "#variable name always include only character & underscore\n",
        "#ex\n",
        "my_list = [45,87,54,21,65,8,89,8]"
      ],
      "metadata": {
        "id": "IqNbBzmBqH4S"
      },
      "execution_count": 14,
      "outputs": []
    },
    {
      "cell_type": "code",
      "source": [
        "my_list[0]"
      ],
      "metadata": {
        "colab": {
          "base_uri": "https://localhost:8080/"
        },
        "id": "Up5sw2JSqzX2",
        "outputId": "3d541099-dfd6-4e1c-a08b-d5277f014a6c"
      },
      "execution_count": 15,
      "outputs": [
        {
          "output_type": "execute_result",
          "data": {
            "text/plain": [
              "45"
            ]
          },
          "metadata": {},
          "execution_count": 15
        }
      ]
    },
    {
      "cell_type": "code",
      "source": [
        "my_list[5]"
      ],
      "metadata": {
        "colab": {
          "base_uri": "https://localhost:8080/"
        },
        "id": "gyXjpHc4rD1u",
        "outputId": "9d73fb2a-2647-42b3-8c1f-8cec4b7a38ba"
      },
      "execution_count": 16,
      "outputs": [
        {
          "output_type": "execute_result",
          "data": {
            "text/plain": [
              "8"
            ]
          },
          "metadata": {},
          "execution_count": 16
        }
      ]
    },
    {
      "cell_type": "code",
      "source": [
        "my_list[-1]"
      ],
      "metadata": {
        "colab": {
          "base_uri": "https://localhost:8080/"
        },
        "id": "wkMSfJrYrahS",
        "outputId": "ea2369bb-21c3-4de0-8ed9-bd62c0f1eed8"
      },
      "execution_count": 17,
      "outputs": [
        {
          "output_type": "execute_result",
          "data": {
            "text/plain": [
              "8"
            ]
          },
          "metadata": {},
          "execution_count": 17
        }
      ]
    },
    {
      "cell_type": "code",
      "source": [
        "my_list[-2]"
      ],
      "metadata": {
        "colab": {
          "base_uri": "https://localhost:8080/"
        },
        "id": "OFy6r1rUrdoM",
        "outputId": "e773370d-24d9-429d-d66e-c7338abb8c59"
      },
      "execution_count": 18,
      "outputs": [
        {
          "output_type": "execute_result",
          "data": {
            "text/plain": [
              "89"
            ]
          },
          "metadata": {},
          "execution_count": 18
        }
      ]
    },
    {
      "cell_type": "code",
      "source": [
        "#slicing"
      ],
      "metadata": {
        "id": "ag3ILoTprill"
      },
      "execution_count": 19,
      "outputs": []
    },
    {
      "cell_type": "code",
      "source": [
        "#syntax-list[start:stop:step]"
      ],
      "metadata": {
        "id": "iTfcbxKWrqtZ"
      },
      "execution_count": 20,
      "outputs": []
    },
    {
      "cell_type": "code",
      "source": [
        "my_list[0:4]"
      ],
      "metadata": {
        "colab": {
          "base_uri": "https://localhost:8080/"
        },
        "id": "xIRumubQr6HV",
        "outputId": "7dfd24e4-233d-4ef2-88e5-4a12df5ba3d0"
      },
      "execution_count": 21,
      "outputs": [
        {
          "output_type": "execute_result",
          "data": {
            "text/plain": [
              "[45, 87, 54, 21]"
            ]
          },
          "metadata": {},
          "execution_count": 21
        }
      ]
    },
    {
      "cell_type": "code",
      "source": [
        "my_list[0:5:2]"
      ],
      "metadata": {
        "colab": {
          "base_uri": "https://localhost:8080/"
        },
        "id": "tNuAULRir_KD",
        "outputId": "0972b150-1dc4-440e-c3fa-50b88622d7d3"
      },
      "execution_count": 22,
      "outputs": [
        {
          "output_type": "execute_result",
          "data": {
            "text/plain": [
              "[45, 54, 65]"
            ]
          },
          "metadata": {},
          "execution_count": 22
        }
      ]
    },
    {
      "cell_type": "code",
      "source": [
        "my_list[0:6:3]"
      ],
      "metadata": {
        "colab": {
          "base_uri": "https://localhost:8080/"
        },
        "id": "0PsyHkkqsG4Z",
        "outputId": "f3fb8ca4-5911-432b-d799-0986e1c2a6ab"
      },
      "execution_count": 23,
      "outputs": [
        {
          "output_type": "execute_result",
          "data": {
            "text/plain": [
              "[45, 21]"
            ]
          },
          "metadata": {},
          "execution_count": 23
        }
      ]
    },
    {
      "cell_type": "code",
      "source": [
        "my_list[:4]"
      ],
      "metadata": {
        "colab": {
          "base_uri": "https://localhost:8080/"
        },
        "id": "g9fJoEnEsnTC",
        "outputId": "f4c4f0fd-ee8d-4c44-bccc-8ede7f30ee43"
      },
      "execution_count": 24,
      "outputs": [
        {
          "output_type": "execute_result",
          "data": {
            "text/plain": [
              "[45, 87, 54, 21]"
            ]
          },
          "metadata": {},
          "execution_count": 24
        }
      ]
    },
    {
      "cell_type": "code",
      "source": [
        "my_list[2:]"
      ],
      "metadata": {
        "colab": {
          "base_uri": "https://localhost:8080/"
        },
        "id": "EQnTTcOLsx0h",
        "outputId": "a9a1c74b-4e9f-4b8c-c067-fcdeeb5903bd"
      },
      "execution_count": 25,
      "outputs": [
        {
          "output_type": "execute_result",
          "data": {
            "text/plain": [
              "[54, 21, 65, 8, 89, 8]"
            ]
          },
          "metadata": {},
          "execution_count": 25
        }
      ]
    },
    {
      "cell_type": "code",
      "source": [
        "#changing the elements"
      ],
      "metadata": {
        "id": "HIS9pDNjs3MM"
      },
      "execution_count": 26,
      "outputs": []
    },
    {
      "cell_type": "code",
      "source": [
        "list = [10,20,30,40]"
      ],
      "metadata": {
        "id": "8tZTfPUjtHUV"
      },
      "execution_count": 27,
      "outputs": []
    },
    {
      "cell_type": "code",
      "source": [
        "list[1]=99"
      ],
      "metadata": {
        "id": "DhyeSG_NtMqm"
      },
      "execution_count": 29,
      "outputs": []
    },
    {
      "cell_type": "code",
      "source": [
        "list"
      ],
      "metadata": {
        "colab": {
          "base_uri": "https://localhost:8080/"
        },
        "id": "IjwDqbIJtRJ_",
        "outputId": "62fef0d3-d290-44d8-9b97-816b36e65d1b"
      },
      "execution_count": 30,
      "outputs": [
        {
          "output_type": "execute_result",
          "data": {
            "text/plain": [
              "[10, 99, 30, 40]"
            ]
          },
          "metadata": {},
          "execution_count": 30
        }
      ]
    },
    {
      "cell_type": "markdown",
      "source": [
        "#list-methods()"
      ],
      "metadata": {
        "id": "wI8BUy1ptduO"
      }
    },
    {
      "cell_type": "code",
      "source": [
        "list=[1,2,3,4,5]"
      ],
      "metadata": {
        "id": "80ZrxDh1tuat"
      },
      "execution_count": 31,
      "outputs": []
    },
    {
      "cell_type": "code",
      "source": [
        "#append() - add a single element at the end"
      ],
      "metadata": {
        "id": "jdPpeCJjtkL0"
      },
      "execution_count": 32,
      "outputs": []
    },
    {
      "cell_type": "code",
      "source": [
        "list.append(6)"
      ],
      "metadata": {
        "id": "-gXhdwxQudIe"
      },
      "execution_count": 33,
      "outputs": []
    },
    {
      "cell_type": "code",
      "source": [
        "list"
      ],
      "metadata": {
        "colab": {
          "base_uri": "https://localhost:8080/"
        },
        "id": "4UXvW7jnug3r",
        "outputId": "f8878ad0-243e-4fb2-cb22-5019d6effe14"
      },
      "execution_count": 34,
      "outputs": [
        {
          "output_type": "execute_result",
          "data": {
            "text/plain": [
              "[1, 2, 3, 4, 5, 6]"
            ]
          },
          "metadata": {},
          "execution_count": 34
        }
      ]
    },
    {
      "cell_type": "code",
      "source": [
        "list.append(7)"
      ],
      "metadata": {
        "id": "qmzSgqFouiX9"
      },
      "execution_count": 35,
      "outputs": []
    },
    {
      "cell_type": "code",
      "source": [
        "list"
      ],
      "metadata": {
        "colab": {
          "base_uri": "https://localhost:8080/"
        },
        "id": "OBTOQtVpunp5",
        "outputId": "a347ee71-f727-47a7-ef90-da8a3a1e1cbd"
      },
      "execution_count": 36,
      "outputs": [
        {
          "output_type": "execute_result",
          "data": {
            "text/plain": [
              "[1, 2, 3, 4, 5, 6, 7]"
            ]
          },
          "metadata": {},
          "execution_count": 36
        }
      ]
    },
    {
      "cell_type": "code",
      "source": [
        "list.append(124)"
      ],
      "metadata": {
        "id": "nNCxHUCruoji"
      },
      "execution_count": 37,
      "outputs": []
    },
    {
      "cell_type": "code",
      "source": [
        "list"
      ],
      "metadata": {
        "colab": {
          "base_uri": "https://localhost:8080/"
        },
        "id": "TThq5Ru0uwGr",
        "outputId": "6f96ddd4-440b-49c1-86f2-733aa50455f7"
      },
      "execution_count": 38,
      "outputs": [
        {
          "output_type": "execute_result",
          "data": {
            "text/plain": [
              "[1, 2, 3, 4, 5, 6, 7, 124]"
            ]
          },
          "metadata": {},
          "execution_count": 38
        }
      ]
    },
    {
      "cell_type": "code",
      "source": [
        "list1 = [8,74,59,23,41,67,24,1,2]"
      ],
      "metadata": {
        "id": "XfvQfntKuwoM"
      },
      "execution_count": 39,
      "outputs": []
    },
    {
      "cell_type": "code",
      "source": [
        "list1"
      ],
      "metadata": {
        "colab": {
          "base_uri": "https://localhost:8080/"
        },
        "id": "PGfNpaChvOFK",
        "outputId": "28c8fa11-373f-4855-e97b-9c188fcabeda"
      },
      "execution_count": 40,
      "outputs": [
        {
          "output_type": "execute_result",
          "data": {
            "text/plain": [
              "[8, 74, 59, 23, 41, 67, 24, 1, 2]"
            ]
          },
          "metadata": {},
          "execution_count": 40
        }
      ]
    },
    {
      "cell_type": "code",
      "source": [
        "list1.append(\"tushar\")"
      ],
      "metadata": {
        "id": "J-2oddSAvP7A"
      },
      "execution_count": 41,
      "outputs": []
    },
    {
      "cell_type": "code",
      "source": [
        "list1"
      ],
      "metadata": {
        "colab": {
          "base_uri": "https://localhost:8080/"
        },
        "id": "y_40dBHWvWYn",
        "outputId": "85030323-4656-4570-d000-f7908613989a"
      },
      "execution_count": 43,
      "outputs": [
        {
          "output_type": "execute_result",
          "data": {
            "text/plain": [
              "[8, 74, 59, 23, 41, 67, 24, 1, 2, 'tushar']"
            ]
          },
          "metadata": {},
          "execution_count": 43
        }
      ]
    },
    {
      "cell_type": "code",
      "source": [
        "#insert() - insert and element,to perticular index"
      ],
      "metadata": {
        "id": "R9XIuDo-vXAi"
      },
      "execution_count": 44,
      "outputs": []
    },
    {
      "cell_type": "code",
      "source": [
        "list1.insert(0,\"hello\") #.insert(index,value)"
      ],
      "metadata": {
        "id": "AnbnhnJBv0cQ"
      },
      "execution_count": 45,
      "outputs": []
    },
    {
      "cell_type": "code",
      "source": [
        "list1"
      ],
      "metadata": {
        "colab": {
          "base_uri": "https://localhost:8080/"
        },
        "id": "ReqyrkZWwBwR",
        "outputId": "9b20abbe-5aba-4b0a-bcb0-b2a83ce49449"
      },
      "execution_count": 46,
      "outputs": [
        {
          "output_type": "execute_result",
          "data": {
            "text/plain": [
              "['hello', 8, 74, 59, 23, 41, 67, 24, 1, 2, 'tushar']"
            ]
          },
          "metadata": {},
          "execution_count": 46
        }
      ]
    },
    {
      "cell_type": "code",
      "source": [
        "list1.insert(2,\"hello\") #.insert(index,value)"
      ],
      "metadata": {
        "id": "Cp3QXGPfwFfT"
      },
      "execution_count": 50,
      "outputs": []
    },
    {
      "cell_type": "code",
      "source": [
        "list1"
      ],
      "metadata": {
        "colab": {
          "base_uri": "https://localhost:8080/"
        },
        "id": "-x42P4YvwbXM",
        "outputId": "0271b533-9228-443f-adbf-36552cf4a6fc"
      },
      "execution_count": 51,
      "outputs": [
        {
          "output_type": "execute_result",
          "data": {
            "text/plain": [
              "['hello', 8, 'hello', 'hello', 74, 59, 23, 41, 67, 24, 1, 2, 'tushar']"
            ]
          },
          "metadata": {},
          "execution_count": 51
        }
      ]
    },
    {
      "cell_type": "code",
      "source": [
        "list1.insert(5,45.99)"
      ],
      "metadata": {
        "id": "UK9pQtE9wgjx"
      },
      "execution_count": 52,
      "outputs": []
    },
    {
      "cell_type": "code",
      "source": [
        "list1"
      ],
      "metadata": {
        "colab": {
          "base_uri": "https://localhost:8080/"
        },
        "id": "RPyADMwWxNv0",
        "outputId": "84e54e1e-e959-4982-fbfb-6f3e68ef13f0"
      },
      "execution_count": 53,
      "outputs": [
        {
          "output_type": "execute_result",
          "data": {
            "text/plain": [
              "['hello', 8, 'hello', 'hello', 74, 45.99, 59, 23, 41, 67, 24, 1, 2, 'tushar']"
            ]
          },
          "metadata": {},
          "execution_count": 53
        }
      ]
    },
    {
      "cell_type": "code",
      "source": [
        "list1.insert(1,\"world\")"
      ],
      "metadata": {
        "id": "tCCvGhKSxO5I"
      },
      "execution_count": 54,
      "outputs": []
    },
    {
      "cell_type": "code",
      "source": [
        "list1"
      ],
      "metadata": {
        "colab": {
          "base_uri": "https://localhost:8080/"
        },
        "id": "eSI9HJqBxa4V",
        "outputId": "77a269ad-9a5e-453c-e952-0d8c13b46959"
      },
      "execution_count": 55,
      "outputs": [
        {
          "output_type": "execute_result",
          "data": {
            "text/plain": [
              "['hello',\n",
              " 'world',\n",
              " 8,\n",
              " 'hello',\n",
              " 'hello',\n",
              " 74,\n",
              " 45.99,\n",
              " 59,\n",
              " 23,\n",
              " 41,\n",
              " 67,\n",
              " 24,\n",
              " 1,\n",
              " 2,\n",
              " 'tushar']"
            ]
          },
          "metadata": {},
          "execution_count": 55
        }
      ]
    },
    {
      "cell_type": "code",
      "source": [
        "#extend()-add multiple element from another iterable"
      ],
      "metadata": {
        "id": "Oz2qbVeUxb_0"
      },
      "execution_count": 56,
      "outputs": []
    },
    {
      "cell_type": "code",
      "source": [
        "list1 = [1,2,3]"
      ],
      "metadata": {
        "id": "7ZrWlRAlxsKR"
      },
      "execution_count": 57,
      "outputs": []
    },
    {
      "cell_type": "code",
      "source": [
        "list1"
      ],
      "metadata": {
        "colab": {
          "base_uri": "https://localhost:8080/"
        },
        "id": "70374QgRyfPp",
        "outputId": "91231577-be29-4bda-8aaf-069647302430"
      },
      "execution_count": 58,
      "outputs": [
        {
          "output_type": "execute_result",
          "data": {
            "text/plain": [
              "[1, 2, 3]"
            ]
          },
          "metadata": {},
          "execution_count": 58
        }
      ]
    },
    {
      "cell_type": "code",
      "source": [
        "list1.extend([4,5,6])"
      ],
      "metadata": {
        "id": "gi4XREB6yf_W"
      },
      "execution_count": 59,
      "outputs": []
    },
    {
      "cell_type": "code",
      "source": [
        "list1"
      ],
      "metadata": {
        "colab": {
          "base_uri": "https://localhost:8080/"
        },
        "id": "J8JfZdFXyoQ-",
        "outputId": "bdeebc85-45ff-44c2-854a-4382ca7527ce"
      },
      "execution_count": 60,
      "outputs": [
        {
          "output_type": "execute_result",
          "data": {
            "text/plain": [
              "[1, 2, 3, 4, 5, 6]"
            ]
          },
          "metadata": {},
          "execution_count": 60
        }
      ]
    },
    {
      "cell_type": "code",
      "source": [
        "list3 = [9,8,7]"
      ],
      "metadata": {
        "id": "jUCfVyG9ypye"
      },
      "execution_count": 61,
      "outputs": []
    },
    {
      "cell_type": "code",
      "source": [
        "list1.extend(list3)"
      ],
      "metadata": {
        "id": "1TvOGK9TzI5t"
      },
      "execution_count": 62,
      "outputs": []
    },
    {
      "cell_type": "code",
      "source": [
        "list1"
      ],
      "metadata": {
        "colab": {
          "base_uri": "https://localhost:8080/"
        },
        "id": "C-LpfJ3RzMaM",
        "outputId": "216bba7c-e495-4292-bce5-93a5fb34e98a"
      },
      "execution_count": 64,
      "outputs": [
        {
          "output_type": "execute_result",
          "data": {
            "text/plain": [
              "[1, 2, 3, 4, 5, 6, 9, 8, 7]"
            ]
          },
          "metadata": {},
          "execution_count": 64
        }
      ]
    },
    {
      "cell_type": "code",
      "source": [
        "#.remove()"
      ],
      "metadata": {
        "id": "jeRh6VHpzi35"
      },
      "execution_count": 65,
      "outputs": []
    },
    {
      "cell_type": "code",
      "source": [
        "list4 = [10,20,30,40,50]"
      ],
      "metadata": {
        "id": "wENxFmHazzpr"
      },
      "execution_count": 66,
      "outputs": []
    },
    {
      "cell_type": "code",
      "source": [
        "list4.remove(20)"
      ],
      "metadata": {
        "id": "riiabNOBz4nz"
      },
      "execution_count": 67,
      "outputs": []
    },
    {
      "cell_type": "code",
      "source": [
        "list4"
      ],
      "metadata": {
        "colab": {
          "base_uri": "https://localhost:8080/"
        },
        "id": "MpFgGlHjz7sW",
        "outputId": "b9d59884-cfc1-49ab-d5bd-88678cfd8b79"
      },
      "execution_count": 68,
      "outputs": [
        {
          "output_type": "execute_result",
          "data": {
            "text/plain": [
              "[10, 30, 40, 50]"
            ]
          },
          "metadata": {},
          "execution_count": 68
        }
      ]
    },
    {
      "cell_type": "code",
      "source": [
        "list5 = [20,20,10,30,30]"
      ],
      "metadata": {
        "id": "2YRNFzqv0AC2"
      },
      "execution_count": 69,
      "outputs": []
    },
    {
      "cell_type": "code",
      "source": [
        "list5.remove(20)"
      ],
      "metadata": {
        "id": "GjHq9Fso0MFn"
      },
      "execution_count": 70,
      "outputs": []
    },
    {
      "cell_type": "code",
      "source": [
        "shreya = [20,30,40,50]"
      ],
      "metadata": {
        "id": "q6mUBm_W0Plw"
      },
      "execution_count": 71,
      "outputs": []
    },
    {
      "cell_type": "code",
      "source": [
        "shreya.remove(30)"
      ],
      "metadata": {
        "id": "I6HIBLNg0aPV"
      },
      "execution_count": 78,
      "outputs": []
    },
    {
      "cell_type": "code",
      "source": [
        "shreya"
      ],
      "metadata": {
        "colab": {
          "base_uri": "https://localhost:8080/"
        },
        "id": "9aRcDAFI0h6R",
        "outputId": "a6069637-a14c-40d9-bb84-7d0d3631b7ce"
      },
      "execution_count": 80,
      "outputs": [
        {
          "output_type": "execute_result",
          "data": {
            "text/plain": [
              "[20, 50]"
            ]
          },
          "metadata": {},
          "execution_count": 80
        }
      ]
    },
    {
      "cell_type": "code",
      "source": [
        "pmmodi = [10,20,30,40,50,60]"
      ],
      "metadata": {
        "id": "LJbNPJFX0zGz"
      },
      "execution_count": 81,
      "outputs": []
    },
    {
      "cell_type": "code",
      "source": [
        "pmmodi.remove(40)"
      ],
      "metadata": {
        "id": "sJyrcjMm1kDh"
      },
      "execution_count": 82,
      "outputs": []
    },
    {
      "cell_type": "code",
      "source": [
        "pmmodi"
      ],
      "metadata": {
        "colab": {
          "base_uri": "https://localhost:8080/"
        },
        "id": "1Tl2arGX1oA6",
        "outputId": "5d439ed0-8249-4298-beb1-b116775e374c"
      },
      "execution_count": 83,
      "outputs": [
        {
          "output_type": "execute_result",
          "data": {
            "text/plain": [
              "[10, 20, 30, 50, 60]"
            ]
          },
          "metadata": {},
          "execution_count": 83
        }
      ]
    },
    {
      "cell_type": "code",
      "source": [
        "shreya = [20,30,40,50,60]"
      ],
      "metadata": {
        "id": "b2VeSYWO1pKl"
      },
      "execution_count": 84,
      "outputs": []
    },
    {
      "cell_type": "code",
      "source": [
        "shreya.remove(60)"
      ],
      "metadata": {
        "id": "qt7TNkQr1ujg"
      },
      "execution_count": 85,
      "outputs": []
    },
    {
      "cell_type": "code",
      "source": [
        "shreya"
      ],
      "metadata": {
        "colab": {
          "base_uri": "https://localhost:8080/"
        },
        "id": "s-_yvHqt1yT1",
        "outputId": "4dc9995d-2a0e-4563-e6fd-704c8d78d036"
      },
      "execution_count": 86,
      "outputs": [
        {
          "output_type": "execute_result",
          "data": {
            "text/plain": [
              "[20, 30, 40, 50]"
            ]
          },
          "metadata": {},
          "execution_count": 86
        }
      ]
    },
    {
      "cell_type": "code",
      "source": [
        "#.pop()-remove element by index (default last)"
      ],
      "metadata": {
        "id": "kGgaNV301zE9"
      },
      "execution_count": 87,
      "outputs": []
    },
    {
      "cell_type": "code",
      "source": [
        "pmmodi.pop()"
      ],
      "metadata": {
        "colab": {
          "base_uri": "https://localhost:8080/"
        },
        "id": "LYpcC6hi2AI6",
        "outputId": "132d0a42-905e-499e-a37b-077f3998f04e"
      },
      "execution_count": 92,
      "outputs": [
        {
          "output_type": "execute_result",
          "data": {
            "text/plain": [
              "50"
            ]
          },
          "metadata": {},
          "execution_count": 92
        }
      ]
    },
    {
      "cell_type": "code",
      "source": [
        "pmmodi"
      ],
      "metadata": {
        "colab": {
          "base_uri": "https://localhost:8080/"
        },
        "id": "WfKFcdoR2xc_",
        "outputId": "101a34e5-b99d-4b44-e5e7-2835f2624579"
      },
      "execution_count": 93,
      "outputs": [
        {
          "output_type": "execute_result",
          "data": {
            "text/plain": [
              "[10, 30]"
            ]
          },
          "metadata": {},
          "execution_count": 93
        }
      ]
    },
    {
      "cell_type": "code",
      "source": [
        "pmmodi.pop(0)"
      ],
      "metadata": {
        "colab": {
          "base_uri": "https://localhost:8080/"
        },
        "id": "3ilr1iIi2z2m",
        "outputId": "e0760fd5-daa2-4abd-f2e7-04fa7647a8a1"
      },
      "execution_count": 94,
      "outputs": [
        {
          "output_type": "execute_result",
          "data": {
            "text/plain": [
              "10"
            ]
          },
          "metadata": {},
          "execution_count": 94
        }
      ]
    },
    {
      "cell_type": "code",
      "source": [
        "pmmodi"
      ],
      "metadata": {
        "colab": {
          "base_uri": "https://localhost:8080/"
        },
        "id": "nSn93p1026wN",
        "outputId": "d9d87aec-b693-417c-dd2a-f90c24d8769f"
      },
      "execution_count": 95,
      "outputs": [
        {
          "output_type": "execute_result",
          "data": {
            "text/plain": [
              "[30]"
            ]
          },
          "metadata": {},
          "execution_count": 95
        }
      ]
    },
    {
      "cell_type": "code",
      "source": [
        "#.clear()"
      ],
      "metadata": {
        "id": "qXfoZWT329qO"
      },
      "execution_count": 96,
      "outputs": []
    },
    {
      "cell_type": "code",
      "source": [
        "shreya.clear()"
      ],
      "metadata": {
        "id": "Obz62l9M3Ppi"
      },
      "execution_count": 97,
      "outputs": []
    },
    {
      "cell_type": "code",
      "source": [
        "shreya"
      ],
      "metadata": {
        "colab": {
          "base_uri": "https://localhost:8080/"
        },
        "id": "d25h1czY3SaC",
        "outputId": "b0b1ce9c-c5e8-42f5-98fb-aa03b8095b64"
      },
      "execution_count": 100,
      "outputs": [
        {
          "output_type": "execute_result",
          "data": {
            "text/plain": [
              "[]"
            ]
          },
          "metadata": {},
          "execution_count": 100
        }
      ]
    },
    {
      "cell_type": "code",
      "source": [],
      "metadata": {
        "id": "uKRGd-U73cZs"
      },
      "execution_count": null,
      "outputs": []
    }
  ]
}