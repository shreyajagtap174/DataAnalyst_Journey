{
  "nbformat": 4,
  "nbformat_minor": 0,
  "metadata": {
    "colab": {
      "provenance": []
    },
    "kernelspec": {
      "name": "python3",
      "display_name": "Python 3"
    },
    "language_info": {
      "name": "python"
    }
  },
  "cells": [
    {
      "cell_type": "markdown",
      "source": [
        "#Loops\n",
        "\n",
        "for loop-used for intering over sequence\n",
        "\n",
        "while loop - runs as long as condition is true"
      ],
      "metadata": {
        "id": "-NRX89HZ_CSi"
      }
    },
    {
      "cell_type": "code",
      "source": [
        "for i in [2,4,5,6,7]:\n",
        "  print(i)"
      ],
      "metadata": {
        "colab": {
          "base_uri": "https://localhost:8080/"
        },
        "id": "RaxCX3QM_xEJ",
        "outputId": "fee9f140-eff7-4dc6-a457-4284656cf8ea"
      },
      "execution_count": 1,
      "outputs": [
        {
          "output_type": "stream",
          "name": "stdout",
          "text": [
            "2\n",
            "4\n",
            "5\n",
            "6\n",
            "7\n"
          ]
        }
      ]
    },
    {
      "cell_type": "code",
      "source": [
        "for i in range(5):\n",
        "  print(i)"
      ],
      "metadata": {
        "colab": {
          "base_uri": "https://localhost:8080/"
        },
        "id": "LfnlBYRCAHXL",
        "outputId": "ec887ca5-9bb7-4eac-dac8-f3c4630f2c48"
      },
      "execution_count": 2,
      "outputs": [
        {
          "output_type": "stream",
          "name": "stdout",
          "text": [
            "0\n",
            "1\n",
            "2\n",
            "3\n",
            "4\n"
          ]
        }
      ]
    },
    {
      "cell_type": "code",
      "source": [
        "#indentation is one TAB space\n",
        "fruits = [\"apple\",\"banana\",\"cherry\"]\n",
        "for i in fruits:\n",
        "  print(i)"
      ],
      "metadata": {
        "colab": {
          "base_uri": "https://localhost:8080/"
        },
        "id": "RzCtDTZOAVaG",
        "outputId": "ab620e20-c0c8-4586-dd66-dd5eac7a1af9"
      },
      "execution_count": 3,
      "outputs": [
        {
          "output_type": "stream",
          "name": "stdout",
          "text": [
            "apple\n",
            "banana\n",
            "cherry\n"
          ]
        }
      ]
    },
    {
      "cell_type": "code",
      "source": [
        "for a in \"python\":\n",
        "  print(a)"
      ],
      "metadata": {
        "colab": {
          "base_uri": "https://localhost:8080/"
        },
        "id": "corGo4gXAvGr",
        "outputId": "3755fe16-1748-4bca-a0df-7073985de447"
      },
      "execution_count": 8,
      "outputs": [
        {
          "output_type": "stream",
          "name": "stdout",
          "text": [
            "p\n",
            "y\n",
            "t\n",
            "h\n",
            "o\n",
            "n\n"
          ]
        }
      ]
    },
    {
      "cell_type": "code",
      "source": [
        "for i in \"shreya\":\n",
        "  print(i)"
      ],
      "metadata": {
        "colab": {
          "base_uri": "https://localhost:8080/"
        },
        "id": "lZp9lSWLA0PE",
        "outputId": "876dbf6a-c386-433e-b69b-44810ed67c76"
      },
      "execution_count": 9,
      "outputs": [
        {
          "output_type": "stream",
          "name": "stdout",
          "text": [
            "s\n",
            "h\n",
            "r\n",
            "e\n",
            "y\n",
            "a\n"
          ]
        }
      ]
    },
    {
      "cell_type": "code",
      "source": [
        "for a in (20,45.9,\"shreya\",True):\n",
        "  print(a)"
      ],
      "metadata": {
        "colab": {
          "base_uri": "https://localhost:8080/"
        },
        "id": "zxvoe5lJBT2C",
        "outputId": "b2aeda98-2048-45df-acdc-4110d24eec30"
      },
      "execution_count": 10,
      "outputs": [
        {
          "output_type": "stream",
          "name": "stdout",
          "text": [
            "20\n",
            "45.9\n",
            "shreya\n",
            "True\n"
          ]
        }
      ]
    },
    {
      "cell_type": "code",
      "source": [
        "student = {\"name\":\"shweta\",\"age\":25,\"grade\":\"A\"}"
      ],
      "metadata": {
        "id": "7DYgCnRzBk93"
      },
      "execution_count": 11,
      "outputs": []
    },
    {
      "cell_type": "code",
      "source": [
        "student.values()"
      ],
      "metadata": {
        "colab": {
          "base_uri": "https://localhost:8080/"
        },
        "id": "hYWBGs4qBx7O",
        "outputId": "0157ec28-5a6c-4b51-d740-d2237b9b51aa"
      },
      "execution_count": 12,
      "outputs": [
        {
          "output_type": "execute_result",
          "data": {
            "text/plain": [
              "dict_values(['shweta', 25, 'A'])"
            ]
          },
          "metadata": {},
          "execution_count": 12
        }
      ]
    },
    {
      "cell_type": "code",
      "source": [
        "student.keys()"
      ],
      "metadata": {
        "colab": {
          "base_uri": "https://localhost:8080/"
        },
        "id": "Fv5csURNB1rA",
        "outputId": "10d1f5cd-9891-4210-daa3-14cc0263ccae"
      },
      "execution_count": 13,
      "outputs": [
        {
          "output_type": "execute_result",
          "data": {
            "text/plain": [
              "dict_keys(['name', 'age', 'grade'])"
            ]
          },
          "metadata": {},
          "execution_count": 13
        }
      ]
    },
    {
      "cell_type": "code",
      "source": [
        "student.items()"
      ],
      "metadata": {
        "colab": {
          "base_uri": "https://localhost:8080/"
        },
        "id": "TIp4XAMBB5iH",
        "outputId": "ed1da245-6661-4ba2-90b2-04861fd4fcaf"
      },
      "execution_count": 14,
      "outputs": [
        {
          "output_type": "execute_result",
          "data": {
            "text/plain": [
              "dict_items([('name', 'shweta'), ('age', 25), ('grade', 'A')])"
            ]
          },
          "metadata": {},
          "execution_count": 14
        }
      ]
    },
    {
      "cell_type": "code",
      "source": [
        "for i , j in student.items():\n",
        "  print(i,\"=\",j)"
      ],
      "metadata": {
        "colab": {
          "base_uri": "https://localhost:8080/"
        },
        "id": "mZgQ-6vnCDxc",
        "outputId": "a4cf4222-f68d-4373-b067-85775dc5df01"
      },
      "execution_count": 15,
      "outputs": [
        {
          "output_type": "stream",
          "name": "stdout",
          "text": [
            "name = shweta\n",
            "age = 25\n",
            "grade = A\n"
          ]
        }
      ]
    },
    {
      "cell_type": "code",
      "source": [
        "\"=\""
      ],
      "metadata": {
        "colab": {
          "base_uri": "https://localhost:8080/",
          "height": 35
        },
        "id": "22BzZDi2CP1e",
        "outputId": "b10400d8-73ff-49b9-c03f-41742a9b2df9"
      },
      "execution_count": 16,
      "outputs": [
        {
          "output_type": "execute_result",
          "data": {
            "text/plain": [
              "'='"
            ],
            "application/vnd.google.colaboratory.intrinsic+json": {
              "type": "string"
            }
          },
          "metadata": {},
          "execution_count": 16
        }
      ]
    },
    {
      "cell_type": "code",
      "source": [
        "#nested for loop"
      ],
      "metadata": {
        "id": "xFiP8EJYCRjo"
      },
      "execution_count": 17,
      "outputs": []
    },
    {
      "cell_type": "code",
      "source": [
        "for i in range(3):\n",
        "  for j in range(3):\n",
        "    print(f\"(i={i},j = {j})\")"
      ],
      "metadata": {
        "colab": {
          "base_uri": "https://localhost:8080/"
        },
        "id": "FKPih3KOCUsp",
        "outputId": "62961a86-21ee-4f3a-820d-253c9202862b"
      },
      "execution_count": 18,
      "outputs": [
        {
          "output_type": "stream",
          "name": "stdout",
          "text": [
            "(i=0,j = 0)\n",
            "(i=0,j = 1)\n",
            "(i=0,j = 2)\n",
            "(i=1,j = 0)\n",
            "(i=1,j = 1)\n",
            "(i=1,j = 2)\n",
            "(i=2,j = 0)\n",
            "(i=2,j = 1)\n",
            "(i=2,j = 2)\n"
          ]
        }
      ]
    },
    {
      "cell_type": "code",
      "source": [
        "#while"
      ],
      "metadata": {
        "id": "TLZIog65Co1I"
      },
      "execution_count": 19,
      "outputs": []
    },
    {
      "cell_type": "code",
      "source": [
        "i = 3\n",
        "while i <= 5:\n",
        "  print(i)\n",
        "  i = i + 1"
      ],
      "metadata": {
        "colab": {
          "base_uri": "https://localhost:8080/"
        },
        "id": "TnEeH_HYCrxv",
        "outputId": "b82002dd-6261-4ccc-e83a-26c7bb70b373"
      },
      "execution_count": 20,
      "outputs": [
        {
          "output_type": "stream",
          "name": "stdout",
          "text": [
            "3\n",
            "4\n",
            "5\n"
          ]
        }
      ]
    },
    {
      "cell_type": "code",
      "source": [
        "#Fibonacci sequence"
      ],
      "metadata": {
        "id": "KmRgNJ16C2Rc"
      },
      "execution_count": 21,
      "outputs": []
    },
    {
      "cell_type": "code",
      "source": [
        "a = 0\n",
        "b = 1\n",
        "while b < 100:\n",
        "  print(b, end=\" \")\n",
        "  temp = b\n",
        "  b = a + b\n",
        "  a = temp"
      ],
      "metadata": {
        "colab": {
          "base_uri": "https://localhost:8080/"
        },
        "id": "m6Bx3xl7DATu",
        "outputId": "ad2ff9a7-9836-4483-b5dd-dba39c183fca"
      },
      "execution_count": 22,
      "outputs": [
        {
          "output_type": "stream",
          "name": "stdout",
          "text": [
            "1 1 2 3 5 8 13 21 34 55 89 "
          ]
        }
      ]
    },
    {
      "cell_type": "code",
      "source": [
        "#factorial"
      ],
      "metadata": {
        "id": "fZZ1wEfEDiR6"
      },
      "execution_count": 23,
      "outputs": []
    },
    {
      "cell_type": "code",
      "source": [
        "num = 5\n",
        "fact = 1\n",
        "while num > 1:\n",
        "  temp = num # current value in temp\n",
        "  fact = fact * temp\n",
        "  num = temp - 1\n",
        "\n",
        "  print(\"factorial of num is:-\", fact)"
      ],
      "metadata": {
        "colab": {
          "base_uri": "https://localhost:8080/"
        },
        "id": "2IAr53dsD-qs",
        "outputId": "eda7f055-c133-41fe-daad-1b9cb65e0473"
      },
      "execution_count": 24,
      "outputs": [
        {
          "output_type": "stream",
          "name": "stdout",
          "text": [
            "factorial of num is:- 5\n",
            "factorial of num is:- 20\n",
            "factorial of num is:- 60\n",
            "factorial of num is:- 120\n"
          ]
        }
      ]
    },
    {
      "cell_type": "code",
      "source": [
        "num = 1234"
      ],
      "metadata": {
        "id": "6TAl_s_aE6bb"
      },
      "execution_count": 25,
      "outputs": []
    },
    {
      "cell_type": "code",
      "source": [
        "num % 10"
      ],
      "metadata": {
        "colab": {
          "base_uri": "https://localhost:8080/"
        },
        "id": "5aQiwpBJFBRk",
        "outputId": "3d062545-fd75-410a-cea1-0184822d277f"
      },
      "execution_count": 26,
      "outputs": [
        {
          "output_type": "execute_result",
          "data": {
            "text/plain": [
              "4"
            ]
          },
          "metadata": {},
          "execution_count": 26
        }
      ]
    },
    {
      "cell_type": "code",
      "source": [
        "num // 10"
      ],
      "metadata": {
        "colab": {
          "base_uri": "https://localhost:8080/"
        },
        "id": "IGRPWAAxFDXr",
        "outputId": "bfc059ac-f52e-449f-832c-c9cdbacd9682"
      },
      "execution_count": 27,
      "outputs": [
        {
          "output_type": "execute_result",
          "data": {
            "text/plain": [
              "123"
            ]
          },
          "metadata": {},
          "execution_count": 27
        }
      ]
    },
    {
      "cell_type": "code",
      "source": [],
      "metadata": {
        "id": "Qv4aEbJSFYoq"
      },
      "execution_count": null,
      "outputs": []
    }
  ]
}